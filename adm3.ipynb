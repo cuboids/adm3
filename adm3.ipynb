{
 "cells": [
  {
   "cell_type": "markdown",
   "source": [
    "In the present study, we would like to predict weather exoplanet candidates are, in fact,\n",
    "exoplanets. In order to do this, we use the KEPLER dataset. For each exoplanet candidate, we have\n",
    "information about a wide range of variables such as orbital period, transit duration, and\n",
    "Kepler band. We also know the subsequent classification of each candidate (exoplanet or\n",
    "false positive), this will be our outcome variable.\n",
    "\n",
    "We will investigate three classification methods to predict if candidates are exoplanets:\n",
    "(1) Support Vector Machines (SVMs), (2) Random Forest Classifiers (RFCs), and (3) XGB Classifiers\n",
    "(XGBs). These methods have all worked well in various classification tasks, and are sufficiently\n",
    "different to be complementary. Note that Python 3.8+ is required! Let's start with the imports."
   ],
   "metadata": {
    "collapsed": false
   }
  },
  {
   "cell_type": "code",
   "execution_count": 1,
   "outputs": [],
   "source": [
    "from collections import OrderedDict\n",
    "from shutil import rmtree\n",
    "from tempfile import mkdtemp\n",
    "from typing import Optional, Union\n",
    "\n",
    "import numpy as np\n",
    "import pandas as pd; pd.set_option('display.max_columns', None)\n",
    "import matplotlib.pyplot as plt\n",
    "import seaborn as sns\n",
    "import xgboost as xgb\n",
    "\n",
    "from sklearn import preprocessing\n",
    "from sklearn.ensemble import ExtraTreesRegressor, RandomForestClassifier\n",
    "from sklearn.experimental import enable_iterative_imputer  # noqa\n",
    "from sklearn.impute import IterativeImputer, SimpleImputer  # noqa\n",
    "from sklearn.model_selection import cross_val_score, GridSearchCV, KFold, train_test_split, RandomizedSearchCV\n",
    "from sklearn.metrics import accuracy_score\n",
    "from sklearn.pipeline import make_pipeline\n",
    "from sklearn.svm import SVC\n",
    "from sklearn.tree import DecisionTreeRegressor"
   ],
   "metadata": {
    "collapsed": false,
    "pycharm": {
     "name": "#%%\n"
    }
   }
  },
  {
   "cell_type": "markdown",
   "source": [
    "Below we define the various \"grids\" of hyperparameter values our models will optimize over."
   ],
   "metadata": {
    "collapsed": false
   }
  },
  {
   "cell_type": "code",
   "execution_count": 2,
   "outputs": [],
   "source": [
    "N_FOLDS = 5  # Number of folds to use in cross-validation\n",
    "\n",
    "METHODS = {\n",
    "    'svm': SVC(\n",
    "        random_state=0,\n",
    "        probability=True),\n",
    "\n",
    "    'rfc': RandomForestClassifier(\n",
    "        random_state=0),\n",
    "\n",
    "    'xgb': xgb.XGBClassifier(\n",
    "        random_state=0,\n",
    "        use_label_encoder=False,\n",
    "        eval_metric='logloss')}\n",
    "\n",
    "SVM_GRID = {\n",
    "    # Kernel type to be used in the algorithm\n",
    "    'svc__kernel': ['rbf', 'poly', 'sigmoid'],\n",
    "\n",
    "    # Regularization parameter\n",
    "    'svc__C': [.01, .1, 1, 10, 100],\n",
    "\n",
    "    # Kernel coefficient\n",
    "    'svc__gamma': [.001, .01, .1, 1]}\n",
    "\n",
    "RFC_GRID = {\n",
    "    # Number of trees in the random forest\n",
    "    'n_estimators': list(range(200, 2200, 200)),\n",
    "\n",
    "    # Number of features to consider at every split\n",
    "    'max_features': ['auto', 'sqrt'],\n",
    "\n",
    "    # Maximum number of levels in each tree\n",
    "    'max_depth': list(range(10, 110, 10)) + [None],\n",
    "\n",
    "    # Minimum number of samples to split a node\n",
    "    'min_samples_split': [2, 5, 10],\n",
    "\n",
    "    # Minimum number of samples required at each leaf node\n",
    "    'min_samples_leaf': [1, 2, 4],\n",
    "\n",
    "    # Method of selecting samples for training each tree\n",
    "    'bootstrap': [True, False]}\n",
    "\n",
    "# For compatibility with SK Learn pipes.\n",
    "RFC_GRID = {'randomforestclassifier__' + k: v for k, v in RFC_GRID.items()}\n",
    "\n",
    "XGB_GRID = {\n",
    "    # Number of estimators\n",
    "    'n_estimators': list(range(50, 550, 50)),\n",
    "\n",
    "    # Learning rate\n",
    "    'learning_rate': [.01, .03, .1, .3, .6],\n",
    "\n",
    "    # Minimum loss reduction required for partitioning\n",
    "    'gamma': [0, 1, 10, 100, 1000],\n",
    "\n",
    "    # Maximum depth of the tree\n",
    "    'max_depth': [4, 6, 8, 10],\n",
    "\n",
    "    # L1 regularization\n",
    "    'reg_alpha': [.01, .1, 1, 10, 100],\n",
    "\n",
    "    # L2 regularization\n",
    "    'reg_lambda': [.01, .1, 1, 10, 100]\n",
    "\n",
    "}\n",
    "\n",
    "XGB_GRID = {'xgbclassifier__' + k: v for k, v in XGB_GRID.items()}\n",
    "\n",
    "# Test grids with fewer parameter values to test the pipeline\n",
    "\n",
    "SVM_TEST_GRID = {\n",
    "    'svc__kernel': ['rbf', 'poly'],\n",
    "    'svc__C': [10, 100],\n",
    "    'svc__gamma': [.001, .01]}\n",
    "\n",
    "RFC_TEST_GRID = {\n",
    "    'randomforestclassifier__n_estimators': [800, 1200],\n",
    "    'randomforestclassifier__max_features': ['auto', 'sqrt'],\n",
    "    'randomforestclassifier__max_depth': [50, 60],\n",
    "    'randomforestclassifier__min_samples_split': [2, 10],\n",
    "    'randomforestclassifier__min_samples_leaf': [1, 4],\n",
    "    'randomforestclassifier__bootstrap': [True, False]\n",
    "}\n",
    "\n",
    "XGB_TEST_GRID = {\n",
    "    'xgbclassifier__n_estimators': [100, 300],\n",
    "    'xgbclassifier__learning_rate': [.01, .6],\n",
    "    'xgbclassifier__gamma': [1, 10],\n",
    "    'xgbclassifier__max_depth': [4, 10],\n",
    "    'xgbclassifier__reg_alpha': [1, 10],\n",
    "    'xgbclassifier__reg_lambda': [1, 10]\n",
    "}"
   ],
   "metadata": {
    "collapsed": false,
    "pycharm": {
     "name": "#%%\n"
    }
   }
  },
  {
   "cell_type": "markdown",
   "source": [
    "The first step will be the data import."
   ],
   "metadata": {
    "collapsed": false
   }
  },
  {
   "cell_type": "code",
   "execution_count": 3,
   "outputs": [],
   "source": [
    "def import_data(fp: str, use_url: bool = True) -> pd.DataFrame:\n",
    "    \"\"\"Import Kepler data from csv\n",
    "    source: https://exoplanetarchive.ipac.caltech.edu/cgi-bin/TblView/nph-tblView?app=ExoTbls&config=cumulative\n",
    "\n",
    "    Args:\n",
    "        fp: file path to Kepler data\n",
    "        use_url: use GitHub URL to import data.\n",
    "    \"\"\"\n",
    "    url = 'https://raw.githubusercontent.com/cuboids/adm3/main/cumulative_2021.12.05_03.56.43.csv'\n",
    "    if use_url:\n",
    "        return pd.read_csv(url, comment='#')\n",
    "    return pd.read_csv(fp, comment='#')"
   ],
   "metadata": {
    "collapsed": false,
    "pycharm": {
     "name": "#%%\n"
    }
   }
  },
  {
   "cell_type": "markdown",
   "source": [
    "The function `first_impression` allows for a cursory view of the data."
   ],
   "metadata": {
    "collapsed": false
   }
  },
  {
   "cell_type": "code",
   "execution_count": 4,
   "outputs": [],
   "source": [
    "def first_impression(df: pd.DataFrame) -> None:\n",
    "    \"\"\"View basic descriptive statistics\"\n",
    "\n",
    "    Args:\n",
    "        df: Pandas dataframe\n",
    "    \"\"\"\n",
    "    print(df.head())\n",
    "    print(df.describe())\n",
    "    df.hist()\n",
    "    plt.show()\n"
   ],
   "metadata": {
    "collapsed": false,
    "pycharm": {
     "name": "#%%\n"
    }
   }
  },
  {
   "cell_type": "markdown",
   "source": [
    "First we need to clean the data. In the comments, a brief explanation of each variable is given.\n",
    "For more detailed information, we refer to the linked exoplanet archive website from Caltech.\n",
    "Planets from which we do not definitively know if they are an exoplanet or false positive have\n",
    "been left out."
   ],
   "metadata": {
    "collapsed": false
   }
  },
  {
   "cell_type": "code",
   "execution_count": 5,
   "outputs": [],
   "source": [
    "def basic_data_clean_up(raw: pd.DataFrame, cols: Optional[list[str]] = None) -> pd.DataFrame:\n",
    "    \"\"\"Select columns for the feature matrix and code target variable as y\n",
    "\n",
    "    Args:\n",
    "        raw: kepler data\n",
    "        cols: optional list of columns to be included\n",
    "    \"\"\"\n",
    "\n",
    "    # More information about the meaning of each column:\n",
    "    # https://exoplanetarchive.ipac.caltech.edu/docs/API_kepcandidate_columns.html\n",
    "    cols = cols if cols is not None else [\n",
    "        'kepoi_name',  # KOI Name\n",
    "        'koi_disposition',  # Exoplanet Archive Disposition\n",
    "        'koi_period',  # Orbital Period\n",
    "        'koi_time0bk',  # Transit Epoch [BKJD]\n",
    "        'koi_impact',  # Impact Parameter\n",
    "        'koi_duration',  # Transit Duration [hrs]\n",
    "        'koi_depth',  # Transit Depth [ppm]\n",
    "        'koi_prad',  # Planetary Radius [Earth radii]\n",
    "        'koi_teq',  # Equilibrium Temperature [K]\n",
    "        'koi_insol',  # Insolation Flux [Earth flux]\n",
    "        'koi_model_snr',  # Transit Signal-to-Noise\n",
    "        'koi_tce_plnt_num',  # TCE Planet Number\n",
    "        'koi_steff',  # Stellar Effective Temperature [K]\n",
    "        'koi_slogg',  # Stellar Surface Gravity [log10(cm/s**2)]\n",
    "        'koi_srad',  # Stellar Radius [Solar radii]\n",
    "        'ra',  # RA [decimal degrees]\n",
    "        'dec',  # Dec [decimal degrees]\n",
    "        'koi_kepmag']  # Kepler-band [mag]\n",
    "\n",
    "    # Check that `cols` includes the planet name and disposition\n",
    "    assert 'kepoi_name' in cols and 'koi_disposition' in cols\n",
    "\n",
    "    # Only preserve the columns in cols\n",
    "    df = raw[cols]\n",
    "\n",
    "    # Planet names need to be unique\n",
    "    assert len(df['kepoi_name']) == len(set(df['kepoi_name']))\n",
    "\n",
    "    # Set planet name as row index\n",
    "    df = df.set_index('kepoi_name')\n",
    "\n",
    "    # Filter out exoplanet candidates\n",
    "    df = df[df['koi_disposition'] != 'CANDIDATE']\n",
    "\n",
    "    # Ensure a planet is either CONFIRMED or FALSE POSITIVE, not a CANDIDATE\n",
    "    assert len(set(df['koi_disposition'])) == 2\n",
    "\n",
    "    # Code the target variable as binary\n",
    "    df['y'] = [int(b) for b in df['koi_disposition'] == 'CONFIRMED']\n",
    "    df = df.drop('koi_disposition', axis=1)\n",
    "\n",
    "    return df"
   ],
   "metadata": {
    "collapsed": false,
    "pycharm": {
     "name": "#%%\n"
    }
   }
  },
  {
   "cell_type": "markdown",
   "source": [
    "It's good practice to compare a baseline \"null model\". That's what\n",
    "`baseline_score` does."
   ],
   "metadata": {
    "collapsed": false
   }
  },
  {
   "cell_type": "code",
   "execution_count": 6,
   "outputs": [],
   "source": [
    "def baseline_score(y_train: np.array) -> float:\n",
    "\n",
    "    # Get predictions on the training set\n",
    "    baseline_predictions = np.zeros(y_train.shape)\n",
    "\n",
    "    # Compute MAE\n",
    "    acc = accuracy_score(y_train, baseline_predictions)\n",
    "    print(f'Baseline Accuracy: {acc:.3f}')\n",
    "    print()\n",
    "\n",
    "    return acc"
   ],
   "metadata": {
    "collapsed": false,
    "pycharm": {
     "name": "#%%\n"
    }
   }
  },
  {
   "cell_type": "markdown",
   "source": [
    "The functions below are used to actually evaluate each model. First, the dataframe is split\n",
    "into a training set and a test set. We have chosen for a 70%/30% split so that we have enough\n",
    "observations in the test set to reliably evaluate the best models.\n",
    "\n",
    "For all models, we first impute the (likely MNAR) values with an Iterative Imputer. This\n",
    "means the values are imputed in a round-robin fashion until some convergence criterion is\n",
    "reached. We do note that Python gives us a ConvergenceWarning, which means that we can't\n",
    "be certain that the imputed values are correct. Note that we chose to use a Decision Tree\n",
    "Regressor as our estimator for imputation, as it doesn't make too many assumptions on the\n",
    "structure of our data and tends to work reasonably well in practice.\n",
    "\n",
    "After imputation, we applied a Power Transformation. This was necessary, as some of our\n",
    "variables spanned many orders of magnitude, something which is quite common in astronomical\n",
    "data. We used the Yeo-Johnson transformations because our data contains both negative and\n",
    "positive data (Box-Cox transformations work for positive data only).\n",
    "\n",
    "For Support Vector Machines we use a Cross Validated Grid Search (CVGS) with 5 folds. This type\n",
    "of hyperparameter tuning works well if the number of possible hyperparameters is reasonably\n",
    "small, like is the case for SVMs. However, Cross Validated Grid Search quickly becomes\n",
    "infeasible for grid searches over larger parameter spaces. As both Random Forest\n",
    "Classifiers and XGBoost Classifiers have many relevant hyperparameters which may influence\n",
    "model performance, we have chosen to apply a Cross Validated Random Search (CVRS) for those\n",
    "hyperparameters. An alternative approach uses both CVRS and CVGS on a subset of parameters."
   ],
   "metadata": {
    "collapsed": false
   }
  },
  {
   "cell_type": "code",
   "execution_count": 7,
   "outputs": [],
   "source": [
    "def split_df(df: pd.DataFrame, test_size: float = .3) -> tuple[np.array]:\n",
    "    \"\"\"Split dataframe into train and test set\n",
    "\n",
    "    Args:\n",
    "        df: kepler data\n",
    "        test_size: relative size of the test set\"\"\"\n",
    "\n",
    "    X, y = df.drop('y', axis=1).to_numpy(), df['y'].to_numpy()\n",
    "    return train_test_split(X, y, test_size=test_size, random_state=0)\n",
    "\n",
    "\n",
    "def cv_grid_search(X_train: np.array, y_train: np.array, method: str, test: bool = True,  # noqa\n",
    "                   verbose: Optional[bool] = True) -> Union[GridSearchCV, RandomizedSearchCV]:\n",
    "    \"\"\"Use cross-validated grid search to find best-fitting parameters\n",
    "\n",
    "    Args:\n",
    "        X_train: input variables\n",
    "        y_train: output variables\n",
    "        method: classification methods to use ('svm' or 'rfc')\n",
    "        test: use reduced model for testing purposes\n",
    "        verbose: print intermediate output\n",
    "    \"\"\"\n",
    "\n",
    "    assert method in ['svm', 'rfc', 'xgb']\n",
    "\n",
    "    verbose = test if verbose is None else verbose\n",
    "\n",
    "    estimator = DecisionTreeRegressor(random_state=0)  # Estimator used for imputation\n",
    "    cachedir = mkdtemp()  # noqa; we cache transformers to avoid repeated computation\n",
    "\n",
    "    pipe = make_pipeline(\n",
    "        IterativeImputer(random_state=0, estimator=estimator),\n",
    "        preprocessing.PowerTransformer(),\n",
    "        METHODS[method],\n",
    "        memory=cachedir,\n",
    "        verbose=verbose)\n",
    "\n",
    "    # Cross validation settings\n",
    "    cv = KFold(N_FOLDS, shuffle=True, random_state=0)\n",
    "\n",
    "    if method == 'svm':\n",
    "        search = GridSearchCV(\n",
    "            estimator=pipe,\n",
    "            param_grid=SVM_TEST_GRID if test else SVM_GRID,\n",
    "            n_jobs=-1,\n",
    "            cv=cv,\n",
    "            verbose=verbose)\n",
    "\n",
    "    else:\n",
    "        # Select appropriate grid.\n",
    "        if method == 'rfc':\n",
    "            param_distributions = RFC_TEST_GRID if test else RFC_GRID\n",
    "        else:\n",
    "            param_distributions = XGB_TEST_GRID if test else XGB_GRID\n",
    "        search = RandomizedSearchCV(\n",
    "            estimator=pipe,\n",
    "            param_distributions=param_distributions,\n",
    "            n_iter=10 if test else 100,\n",
    "            n_jobs=-1,\n",
    "            cv=cv,\n",
    "            verbose=verbose,\n",
    "            random_state=0)\n",
    "\n",
    "    search.fit(X_train, y_train)\n",
    "    rmtree(cachedir)\n",
    "    print(f'Best parameters (CV score={search.best_score_:.3f})')\n",
    "    print(search.best_params_)\n",
    "\n",
    "    return search"
   ],
   "metadata": {
    "collapsed": false,
    "pycharm": {
     "name": "#%%\n"
    }
   }
  },
  {
   "cell_type": "markdown",
   "source": [
    "Below we have defined three objects. The function `main` invokes the previous functions to\n",
    "do one of two things: (1A) if `compute_optimal_parameters` is set to True (and `test` set to\n",
    "False) it will run the CVGS or CVRS to find the optimal parameters for the selected model. On the\n",
    "other hand (1B), if `test` is False, it will use a simplified grid designed to speed up computations.\n",
    "Finally, (2) with `compute_optimal_parameters` set to False, it will evaluate the optimal\n",
    "parameters as defined in the dictionary `METHODS_OPTIMAL` with the `evaluate` helper function.\n",
    "\n",
    "The current values in this dictionary follow directly from running `main` in configuration\n",
    "1A. We apologize for the fact that these values are hard-coded, however, given the long\n",
    "compilation time for 1A (~30 minutes for each model), we felt this was the best compromise\n",
    "between running time and clarity."
   ],
   "metadata": {
    "collapsed": false
   }
  },
  {
   "cell_type": "code",
   "execution_count": 8,
   "outputs": [],
   "source": [
    "METHODS_OPTIMAL = {\n",
    "    'svm': SVC(\n",
    "        C=100,\n",
    "        kernel='rbf',\n",
    "        gamma=.01,\n",
    "        random_state=0,\n",
    "        probability=True),\n",
    "\n",
    "    'rfc': RandomForestClassifier(\n",
    "        n_estimators=2000,\n",
    "        min_samples_split=5,\n",
    "        min_samples_leaf=2,\n",
    "        max_features='auto',\n",
    "        max_depth=80,\n",
    "        bootstrap=False,\n",
    "        random_state=0),\n",
    "\n",
    "    'xgb': xgb.XGBClassifier(\n",
    "        reg_lambda=1,\n",
    "        reg_alpha=.1,\n",
    "        n_estimators=500,\n",
    "        max_depth=8,\n",
    "        learning_rate=.1,\n",
    "        gamma=0,\n",
    "        random_state=0,\n",
    "        use_label_encoder=False,\n",
    "        eval_metric='logloss')}\n",
    "\n",
    "def evaluate(X_train: np.array, y_train: np.array, X_test: np.array, y_test: np.array,\n",
    "             verbose: bool = True) -> dict[str]:\n",
    "    \"\"\"Evaluate optimal models on test set\"\"\"\n",
    "\n",
    "    estimator = DecisionTreeRegressor(random_state=0)  # Estimator used for imputation\n",
    "    cachedir = mkdtemp()  # noqa; we cache transformers to avoid repeated computation\n",
    "\n",
    "    scores = {'svm': None, 'rfc': None, 'xgb': None}\n",
    "    for method in ['svm', 'rfc', 'xgb']:\n",
    "\n",
    "        pipe = make_pipeline(\n",
    "            IterativeImputer(random_state=0, estimator=estimator),\n",
    "            preprocessing.PowerTransformer(),\n",
    "            METHODS_OPTIMAL[method],\n",
    "            memory=cachedir,\n",
    "            verbose=verbose)\n",
    "\n",
    "        pipe.fit(X_train, y_train)\n",
    "        scores[method] = pipe.score(X_test, y_test)\n",
    "\n",
    "    return scores\n",
    "\n",
    "\n",
    "def main(method: str = 'xgb', test: bool = True, compute_optimal_parameters: bool = False) -> None:\n",
    "    \"\"\"\n",
    "\n",
    "    Args:\n",
    "        method: Method to use ('svm', 'rfc', or 'xgb')\n",
    "        test: if true, use a reduced grid for testing the pipeline\n",
    "        compute_optimal_parameters: recalculate (if true) or evaluate (if false) optimal parameters\n",
    "\n",
    "    Note: recomputing the optimal parameters on a non-test grid might take 30+ min.\n",
    "\n",
    "    \"\"\"\n",
    "\n",
    "    # Specify file path\n",
    "    fp = 'cumulative_2021.12.05_03.56.43.csv'\n",
    "\n",
    "    # Import data\n",
    "    raw = import_data(fp)\n",
    "\n",
    "    # Basic data clean-up\n",
    "    df = basic_data_clean_up(raw)\n",
    "\n",
    "    # Train-test split\n",
    "    X_train, X_test, y_train, y_test = split_df(df)  # noqa\n",
    "\n",
    "    if test:\n",
    "        print('Descriptive statistics:\\n')\n",
    "        first_impression(df)\n",
    "        baseline_score(y_test)\n",
    "\n",
    "    if compute_optimal_parameters:\n",
    "        cv_grid_search(X_train, y_train, method=method, test=test)\n",
    "        return\n",
    "\n",
    "    scores = evaluate(X_train, y_train, X_test, y_test)\n",
    "    print(scores)"
   ],
   "metadata": {
    "collapsed": false,
    "pycharm": {
     "name": "#%%\n"
    }
   }
  },
  {
   "cell_type": "markdown",
   "source": [
    "Let's run `main` in configuration (2) to see the test scores for each method."
   ],
   "metadata": {
    "collapsed": false
   }
  },
  {
   "cell_type": "code",
   "execution_count": null,
   "outputs": [
    {
     "name": "stdout",
     "output_type": "stream",
     "text": [
      "Descriptive statistics:\n",
      "\n",
      "            koi_period  koi_time0bk  koi_impact  koi_duration  koi_depth  \\\n",
      "kepoi_name                                                                 \n",
      "K00752.01     9.488036   170.538750       0.146       2.95750      615.8   \n",
      "K00752.02    54.418383   162.513840       0.586       4.50700      874.8   \n",
      "K00754.01     1.736952   170.307565       1.276       2.40641     8079.2   \n",
      "K00755.01     2.525592   171.595550       0.701       1.65450      603.3   \n",
      "K00756.01    11.094321   171.201160       0.538       4.59450     1517.5   \n",
      "\n",
      "            koi_prad  koi_teq  koi_insol  koi_model_snr  koi_tce_plnt_num  \\\n",
      "kepoi_name                                                                  \n",
      "K00752.01       2.26    793.0      93.59           35.8               1.0   \n",
      "K00752.02       2.83    443.0       9.11           25.8               2.0   \n",
      "K00754.01      33.46   1395.0     891.96          505.6               1.0   \n",
      "K00755.01       2.75   1406.0     926.16           40.9               1.0   \n",
      "K00756.01       3.90    835.0     114.81           66.5               1.0   \n",
      "\n",
      "            koi_steff  koi_slogg  koi_srad         ra        dec  koi_kepmag  \\\n",
      "kepoi_name                                                                     \n",
      "K00752.01      5455.0      4.467     0.927  291.93423  48.141651      15.347   \n",
      "K00752.02      5455.0      4.467     0.927  291.93423  48.141651      15.347   \n",
      "K00754.01      5805.0      4.564     0.791  285.53461  48.285210      15.597   \n",
      "K00755.01      6031.0      4.438     1.046  288.75488  48.226200      15.509   \n",
      "K00756.01      6046.0      4.486     0.972  296.28613  48.224670      15.714   \n",
      "\n",
      "            y  \n",
      "kepoi_name     \n",
      "K00752.01   1  \n",
      "K00752.02   1  \n",
      "K00754.01   0  \n",
      "K00755.01   1  \n",
      "K00756.01   1  \n",
      "        koi_period  koi_time0bk   koi_impact  koi_duration     koi_depth  \\\n",
      "count  7203.000000  7203.000000  6945.000000   7203.000000  6.945000e+03   \n",
      "mean     52.980691   162.857657     0.769913      5.815044  3.111943e+04   \n",
      "std     114.096977    63.720904     3.281278      6.959428  9.337778e+04   \n",
      "min       0.241843   120.515914     0.000000      0.104600  8.000000e-01   \n",
      "25%       2.163798   132.518935     0.232000      2.517500  1.820000e+02   \n",
      "50%       7.942618   136.318600     0.592000      3.882800  5.120000e+02   \n",
      "75%      30.843541   170.184476     0.922000      6.350500  2.958200e+03   \n",
      "max    1071.232624  1472.522306   100.806000    138.540000  1.541400e+06   \n",
      "\n",
      "            koi_prad       koi_teq     koi_insol  koi_model_snr  \\\n",
      "count    6945.000000   6945.000000  6.984000e+03    6945.000000   \n",
      "mean      109.734884   1172.844204  9.893381e+03     334.454442   \n",
      "std      3266.479729    918.302783  1.829812e+05     902.203347   \n",
      "min         0.080000     92.000000  2.000000e-02       0.000000   \n",
      "25%         1.510000    582.000000  2.734000e+01      15.400000   \n",
      "50%         2.700000    949.000000  1.937050e+02      32.300000   \n",
      "75%        26.310000   1518.000000  1.281445e+03     126.900000   \n",
      "max    200346.000000  14667.000000  1.094755e+07    9054.700000   \n",
      "\n",
      "       koi_tce_plnt_num     koi_steff    koi_slogg     koi_srad           ra  \\\n",
      "count       6918.000000   6945.000000  6945.000000  6945.000000  7203.000000   \n",
      "mean           1.219572   5728.387905     4.304294     1.792700   292.155445   \n",
      "std            0.631159    826.868287     0.445489     6.446089     4.750062   \n",
      "min            1.000000   2661.000000     0.047000     0.116000   279.852720   \n",
      "25%            1.000000   5325.000000     4.207000     0.831000   288.849655   \n",
      "50%            1.000000   5780.000000     4.438000     1.000000   292.326450   \n",
      "75%            1.000000   6126.000000     4.542000     1.363000   295.939685   \n",
      "max            8.000000  15896.000000     5.283000   229.908000   301.720760   \n",
      "\n",
      "               dec   koi_kepmag            y  \n",
      "count  7203.000000  7202.000000  7203.000000  \n",
      "mean     43.732413    14.238289     0.328058  \n",
      "std       3.572311     1.409768     0.469539  \n",
      "min      36.577381     6.966000     0.000000  \n",
      "25%      40.706514    13.409250     0.000000  \n",
      "50%      43.536831    14.485000     0.000000  \n",
      "75%      46.660040    15.292000     1.000000  \n",
      "max      52.336010    20.003000     1.000000  \n"
     ]
    },
    {
     "data": {
      "text/plain": "<Figure size 432x288 with 20 Axes>",
      "image/png": "[encoded data removed]"
     },
     "metadata": {
      "needs_background": "light"
     },
     "output_type": "display_data"
    },
    {
     "name": "stdout",
     "output_type": "stream",
     "text": [
      "Baseline Accuracy: 0.674\n",
      "\n"
     ]
    }
   ],
   "source": [
    "main()"
   ],
   "metadata": {
    "collapsed": false,
    "pycharm": {
     "name": "#%%\n",
     "is_executing": true
    }
   }
  },
  {
   "cell_type": "markdown",
   "source": [
    "We achieve about 93% accuracy for each model on the test set, which is not too bad! In fact,\n",
    "the extra accuracy gained by the Grid Searches wasn't all that much. We conclude that\n",
    "classifying exoplanet candidates based on astronomical data is doable with reasonable\n",
    "accuracy."
   ],
   "metadata": {
    "collapsed": false
   }
  }
 ],
 "metadata": {
  "kernelspec": {
   "display_name": "Python 3",
   "language": "python",
   "name": "python3"
  },
  "language_info": {
   "codemirror_mode": {
    "name": "ipython",
    "version": 2
   },
   "file_extension": ".py",
   "mimetype": "text/x-python",
   "name": "python",
   "nbconvert_exporter": "python",
   "pygments_lexer": "ipython2",
   "version": "2.7.6"
  }
 },
 "nbformat": 4,
 "nbformat_minor": 0
}